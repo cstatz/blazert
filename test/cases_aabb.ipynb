{
 "cells": [
  {
   "cell_type": "markdown",
   "metadata": {},
   "source": [
    "# Documentation of the test cases in test_aabb.cpp\n",
    "### Troubleshooting\n",
    "In case this notebook isn't working, make sure the matplotlib widgets are installed and enabled:\n",
    "https://stackoverflow.com/a/55848505"
   ]
  },
  {
   "cell_type": "code",
   "execution_count": 108,
   "metadata": {},
   "outputs": [],
   "source": [
    "%matplotlib widget\n",
    "\n",
    "import numpy as np\n",
    "import matplotlib\n",
    "import matplotlib.pyplot as plt\n",
    "from mpl_toolkits.mplot3d import Axes3D"
   ]
  },
  {
   "cell_type": "code",
   "execution_count": 207,
   "metadata": {},
   "outputs": [],
   "source": [
    "def get_bb(bmin, bmax):   \n",
    "    phi = np.arange(1,10,2)*np.pi/4\n",
    "    Phi, Theta = np.meshgrid(phi, phi)\n",
    "    \n",
    "    x_scale = abs(bmax[0]-bmin[0])\n",
    "    y_scale = abs(bmax[1]-bmin[1])\n",
    "    z_scale = abs(bmax[2]-bmin[2])\n",
    "\n",
    "    x = (np.cos(Phi)*np.sin(Theta)+0.5) * x_scale + bmin[0]\n",
    "    y = (np.sin(Phi)*np.sin(Theta)+0.5) * y_scale + bmin[1]\n",
    "    z = (np.cos(Theta)/np.sqrt(2)+0.5)  * z_scale + bmin[2]\n",
    "    \n",
    "    return x,y,z\n",
    "\n",
    "def calc_ray(ray_dist, inter_min, inter_max):\n",
    "    ray_dir = (inter_max-inter_min)\n",
    "    ray_dir = ray_dir / np.linalg.norm(ray_dir)\n",
    "    ray_inv_dir = 1/ray_dir\n",
    "    \n",
    "    ray_org = inter_min - (ray_dir * ray_dist)     \n",
    "    \n",
    "    t_min = np.linalg.norm(inter_min - ray_org)\n",
    "    t_max = np.linalg.norm(inter_max - ray_org)\n",
    "    \n",
    "    return ray_org, ray_dir, ray_inv_dir, t_min, t_max\n",
    "\n",
    "def plot(bmin, bmax, inter_min, inter_max, ray_dist):\n",
    "    bmin = np.array(bmin)\n",
    "    bmax = np.array(bmax)\n",
    "    inter_min = np.array(inter_min)\n",
    "    inter_max = np.array(inter_max)\n",
    "    \n",
    "    ray_org, ray_dir, ray_inv_dir, t_min, t_max = calc_ray(ray_dist, inter_min, inter_max)\n",
    "    \n",
    "    fig = plt.figure()\n",
    "    ax = fig.add_subplot(111, projection='3d')\n",
    "\n",
    "    x, y, z = get_bb(bmin, bmax)\n",
    "    line = np.linspace(ray_org, ray_org + ray_dir * max_t, 100) \n",
    "    \n",
    "    # plot bounding box\n",
    "    ax.plot_surface(x, y, z, alpha=0.2)\n",
    "    \n",
    "    # plot ray origin\n",
    "    ax.scatter(ray_org[0], ray_org[1], ray_org[2])\n",
    "    \n",
    "    # plot intersection points\n",
    "    ax.scatter(inter_min[0], inter_min[1], inter_min[2])\n",
    "    ax.scatter(inter_max[0], inter_max[1], inter_max[2])    \n",
    "    \n",
    "    # plot ray\n",
    "    ax.plot(line[:,0], line[:,1], line[:,2])\n",
    "    \n",
    "    plt.show()\n",
    "    \n",
    "    return ray_org, ray_dir, ray_inv_dir, t_min, t_max\n",
    "\n",
    "def convert_testcase(testcase, min_t, max_t):\n",
    "    print(testcase, min_t, max_t)"
   ]
  },
  {
   "cell_type": "code",
   "execution_count": 209,
   "metadata": {},
   "outputs": [
    {
     "name": "stderr",
     "output_type": "stream",
     "text": [
      "<ipython-input-207-e94cb0c40ebb>:18: RuntimeWarning: divide by zero encountered in true_divide\n",
      "  ray_inv_dir = 1/ray_dir\n",
      "<ipython-input-207-e94cb0c40ebb>:35: RuntimeWarning: More than 20 figures have been opened. Figures created through the pyplot interface (`matplotlib.pyplot.figure`) are retained until explicitly closed and may consume too much memory. (To control this warning, see the rcParam `figure.max_open_warning`).\n",
      "  fig = plt.figure()\n"
     ]
    },
    {
     "data": {
      "application/vnd.jupyter.widget-view+json": {
       "model_id": "2d54379e29944d7e863b4c1a45f400de",
       "version_major": 2,
       "version_minor": 0
      },
      "text/plain": [
       "Canvas(toolbar=Toolbar(toolitems=[('Home', 'Reset original view', 'home', 'home'), ('Back', 'Back to previous …"
      ]
     },
     "metadata": {},
     "output_type": "display_data"
    },
    {
     "name": "stdout",
     "output_type": "stream",
     "text": [
      "(array([ 0.        , -0.47087101,  1.7941742 ]), array([ 0.        ,  0.98058068, -0.19611614]), array([        inf,  1.0198039 , -5.09901951]), 1.5000000000000002, 2.519803902718557)\n"
     ]
    }
   ],
   "source": [
    "min_t = 0\n",
    "max_t = 3\n",
    "bmin = [-1, 1, 1]\n",
    "bmax = [1, 0, 2]\n",
    "inter_min = [0, 1, 1.5]\n",
    "inter_max = [0, 2, 1.3]\n",
    "ray_dist = (max_t - min_t)/2\n",
    "\n",
    "testcase = plot(bmin, bmax, inter_min, inter_max, ray_dist)\n",
    "\n",
    "convert_testcase(testcase, min_t, max_t)\n"
   ]
  },
  {
   "cell_type": "code",
   "execution_count": null,
   "metadata": {},
   "outputs": [],
   "source": []
  }
 ],
 "metadata": {
  "kernelspec": {
   "display_name": "Python 3",
   "language": "python",
   "name": "python3"
  },
  "language_info": {
   "codemirror_mode": {
    "name": "ipython",
    "version": 3
   },
   "file_extension": ".py",
   "mimetype": "text/x-python",
   "name": "python",
   "nbconvert_exporter": "python",
   "pygments_lexer": "ipython3",
   "version": "3.8.2"
  }
 },
 "nbformat": 4,
 "nbformat_minor": 4
}
