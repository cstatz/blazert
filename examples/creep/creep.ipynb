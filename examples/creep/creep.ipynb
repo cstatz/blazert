{
 "cells": [
  {
   "cell_type": "code",
   "execution_count": 1,
   "id": "institutional-glucose",
   "metadata": {},
   "outputs": [],
   "source": [
    "from landingsite import *\n",
    "import json as js\n",
    "import numpy as np\n",
    "\n",
    "from matplotlib import pyplot as plt"
   ]
  },
  {
   "cell_type": "code",
   "execution_count": 19,
   "id": "greater-pavilion",
   "metadata": {},
   "outputs": [],
   "source": [
    "class NumpyEncoder(js.JSONEncoder):\n",
    "    def default(self, obj):\n",
    "        if isinstance(obj, np.ndarray):\n",
    "            return obj.tolist()\n",
    "        return js.JSONEncoder.default(self, obj)\n",
    "\n",
    "\n",
    "def generate_creep_input(prefix, vertices, triangles, origin, target, resolution=1., min_distance=0.001, binary_output=True):\n",
    "    \n",
    "    config_data = dict()\n",
    "    \n",
    "    config_data[\"points_file\"] = prefix + '_points.npy'\n",
    "    config_data[\"tris_file\"] = prefix + '_tris.npy'\n",
    "    config_data[\"results_file\"] = prefix + '_results.raypaths'\n",
    "    config_data[\"resolution\"] = resolution\n",
    "    config_data[\"min_distance\"] = min_distance\n",
    "    config_data[\"binary_output\"] = binary_output  \n",
    "    config_data[\"origin\"] = origin\n",
    "    config_data[\"target\"] = target\n",
    "    \n",
    "    js.dump(config_data, open(prefix + '.json', 'w'), indent=2, cls=NumpyEncoder)\n",
    "    np.save(config_data['points_file'], vertices)\n",
    "    np.save(config_data['tris_file'], triangles)\n",
    "    \n",
    "    return config_data"
   ]
  },
  {
   "cell_type": "code",
   "execution_count": 3,
   "id": "shared-disease",
   "metadata": {},
   "outputs": [],
   "source": [
    "center = np.asarray([0., 0., 0.])\n",
    "radius = 100.\n",
    "\n",
    "v, t, i = create_sphere(center, radius, 0, 1, 0, 1, 5)"
   ]
  },
  {
   "cell_type": "code",
   "execution_count": 6,
   "id": "elect-yorkshire",
   "metadata": {},
   "outputs": [
    {
     "data": {
      "text/plain": [
       "TrackedArray([-52.57311121,  85.06508084,   0.        ])"
      ]
     },
     "execution_count": 6,
     "metadata": {},
     "output_type": "execute_result"
    }
   ],
   "source": []
  },
  {
   "cell_type": "code",
   "execution_count": 32,
   "id": "enhanced-matrix",
   "metadata": {},
   "outputs": [
    {
     "data": {
      "text/plain": [
       "{'points_file': 'test_sphere_1_points.npy',\n",
       " 'tris_file': 'test_sphere_1_tris.npy',\n",
       " 'results_file': 'test_sphere_1_results.raypaths',\n",
       " 'resolution': 720,\n",
       " 'min_distance': 0.001,\n",
       " 'binary_output': True,\n",
       " 'origin': array([-100.,    0.,    0.]),\n",
       " 'target': array([1000.,    0.,    0.])}"
      ]
     },
     "execution_count": 32,
     "metadata": {},
     "output_type": "execute_result"
    }
   ],
   "source": [
    "generate_creep_input('test_sphere_1', v, np.asarray(t, dtype=np.uint32), np.asarray([-100.,0.,0.]), np.asarray([1000., 0., 0.]), resolution=720, min_distance=1e-3)"
   ]
  },
  {
   "cell_type": "code",
   "execution_count": null,
   "id": "ceramic-blackberry",
   "metadata": {},
   "outputs": [],
   "source": []
  }
 ],
 "metadata": {
  "kernelspec": {
   "display_name": "Python 3",
   "language": "python",
   "name": "python3"
  },
  "language_info": {
   "codemirror_mode": {
    "name": "ipython",
    "version": 3
   },
   "file_extension": ".py",
   "mimetype": "text/x-python",
   "name": "python",
   "nbconvert_exporter": "python",
   "pygments_lexer": "ipython3",
   "version": "3.9.1"
  }
 },
 "nbformat": 4,
 "nbformat_minor": 5
}
