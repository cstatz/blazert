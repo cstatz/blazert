{
 "cells": [
  {
   "cell_type": "markdown",
   "metadata": {},
   "source": [
    "# Documentation of the test cases in test_aabb.cpp\n",
    "### Troubleshooting\n",
    "In case this notebook isn't working, make sure the matplotlib widgets are installed and enabled:\n",
    "https://stackoverflow.com/a/55848505"
   ]
  },
  {
   "cell_type": "code",
   "execution_count": 2,
   "metadata": {
    "jupyter": {
     "source_hidden": true
    }
   },
   "outputs": [],
   "source": [
    "%matplotlib widget\n",
    "\n",
    "import numpy as np\n",
    "import copy\n",
    "import matplotlib\n",
    "import matplotlib.pyplot as plt\n",
    "from mpl_toolkits.mplot3d import Axes3D"
   ]
  },
  {
   "cell_type": "code",
   "execution_count": 122,
   "metadata": {},
   "outputs": [],
   "source": [
    "def get_bb(bmin, bmax):   \n",
    "    # this function calculates a meshgrid bounding box for easy use in matplotlib\n",
    "    bmin = bmin.astype(np.float)\n",
    "    bmax = bmax.astype(np.float)\n",
    "    phi = np.arange(1,10,2)*np.pi/4\n",
    "    Phi, Theta = np.meshgrid(phi, phi)\n",
    "    \n",
    "    # enhance visuability for points and lines\n",
    "    for i in range(3): \n",
    "        if bmax[i] == bmin[i]:            \n",
    "            bmax[i] = bmax[i] + 0.01\n",
    "\n",
    "    x_scale = abs(bmax[0]-bmin[0])\n",
    "    y_scale = abs(bmax[1]-bmin[1])\n",
    "    z_scale = abs(bmax[2]-bmin[2])\n",
    "\n",
    "    x = (np.cos(Phi)*np.sin(Theta)+0.5) * x_scale + bmin[0]\n",
    "    y = (np.sin(Phi)*np.sin(Theta)+0.5) * y_scale + bmin[1]\n",
    "    z = (np.cos(Theta)/np.sqrt(2)+0.5)  * z_scale + bmin[2]\n",
    "    \n",
    "    return x,y,z\n",
    "\n",
    "def calc_ray(ray_dist, inter_min, inter_max):\n",
    "    # this function calculates the ray parameters that are later used in visualization and testing\n",
    "    ray_dir = (inter_max-inter_min)\n",
    "    \n",
    "    if (inter_max == inter_min).all():\n",
    "        ray_dir = inter_min\n",
    "        ray_org = np.array([0,0,0])\n",
    "\n",
    "        t_min = np.linalg.norm(inter_min - ray_org)\n",
    "        t_max = np.linalg.norm(inter_max - ray_org)\n",
    "        #ray_dir = ray_dir / np.linalg.norm(ray_dir)\n",
    "        ray_inv_dir = 1/ray_dir\n",
    "        inf_index = np.where(ray_dir == (np.inf or -np.inf))\n",
    "        for i in inf_index:\n",
    "            ray_dir[i] = 1000 * np.sign(ray_dir[i])\n",
    "\n",
    "    else:\n",
    "        if np.linalg.norm(ray_dir) == np.inf:\n",
    "            ray_org = np.array([0,0,0])\n",
    "            t_min = np.linalg.norm(inter_min - ray_org)\n",
    "            t_max = np.linalg.norm(inter_max - ray_org)\n",
    "\n",
    "            for i in range(3):\n",
    "                if inter_min[i] == (np.inf or -np.inf):\n",
    "                    inter_min[i] = 1000 * np.sign(inter_min[i])\n",
    "                if inter_max[i] == (np.inf or -np.inf):\n",
    "                    inter_max[i] = 1000 * np.sign(inter_max[i])            \n",
    "            ray_dir = (inter_max-inter_min)\n",
    "\n",
    "            ray_dir = ray_dir / np.linalg.norm(ray_dir)\n",
    "            ray_inv_dir = 1/ray_dir\n",
    "\n",
    "        else:\n",
    "            ray_dir = ray_dir / np.linalg.norm(ray_dir)\n",
    "            ray_inv_dir = 1/ray_dir\n",
    "\n",
    "            ray_org = inter_min - (ray_dir * ray_dist)     \n",
    "\n",
    "            t_min = np.linalg.norm(inter_min - ray_org)\n",
    "            t_max = np.linalg.norm(inter_max - ray_org)\n",
    "    \n",
    "    ray_dir_sign = np.sign(ray_dir)\n",
    "    for i in range(len(ray_dir_sign)):\n",
    "        if ray_dir_sign[i] >= 0:\n",
    "            ray_dir_sign[i] = 0\n",
    "        else:\n",
    "            ray_dir_sign[i] = 1\n",
    "    ray_dir_sign = ray_dir_sign.astype(np.int)\n",
    "    \n",
    "    return ray_org, ray_dir, ray_inv_dir, ray_dir_sign, t_min, t_max\n",
    "\n",
    "def plot(bmin, bmax, inter_min, inter_max, ray_dist):\n",
    "    # this function tries to visualize the testcase by plotting the bounding box, the ray and intersections\n",
    "    # it also returns the values needed for testing    \n",
    "    orig_vars = copy.deepcopy([bmin, bmax, inter_min, inter_max, ray_dist])\n",
    "    vars_2 = copy.deepcopy([bmin, bmax, inter_min, inter_max, ray_dist])\n",
    "\n",
    "    for v in range(len(vars_2)):\n",
    "            try:\n",
    "                for i in range(len(vars_2[v])):\n",
    "                    if vars_2[v][i] == np.inf:\n",
    "                        vars_2[v][i] = 1000\n",
    "                    elif vars_2[v][i] == -np.inf:\n",
    "                        vars_2[v][i] = -1000                 \n",
    "            except:\n",
    "                if vars_2[v] == np.inf:\n",
    "                    vars_2[v] = 1000\n",
    "                elif vars_2[v] == -np.inf:\n",
    "                    vars_2[v] = -1000\n",
    "\n",
    "    [bmin, bmax, inter_min, inter_max, ray_dist] = vars_2\n",
    "        \n",
    "    bmin = np.array(bmin)\n",
    "    bmax = np.array(bmax)\n",
    "    inter_min = np.array(inter_min)\n",
    "    inter_max = np.array(inter_max)\n",
    "    \n",
    "    ray_org, ray_dir, ray_inv_dir, ray_dir_sign, t_min, t_max = calc_ray(np.array(orig_vars[4]), np.array(orig_vars[2]), np.array(orig_vars[3]))\n",
    "    \n",
    "    fig = plt.figure()\n",
    "    ax = fig.add_subplot(111, projection='3d')\n",
    "\n",
    "    x, y, z = get_bb(bmin, bmax)\n",
    "\n",
    "    if t_max != (0 or np.inf or -np.inf):\n",
    "        line = np.linspace(ray_org, ray_org + ray_dir * t_max, 100) \n",
    "    elif t_max == 0:\n",
    "        line = np.linspace(ray_org, ray_org + ray_dir * 1, 100) \n",
    "    elif t_max == (np.inf or -np.inf):\n",
    "        line = np.linspace(ray_org, ray_org + ray_dir, 100) \n",
    "    \n",
    "    # initialize with viewing angle towards yz-plane\n",
    "    ax.view_init(10, 1)\n",
    "    ax.set_xlabel('x')\n",
    "    ax.set_ylabel('y')\n",
    "    ax.set_zlabel('z')\n",
    "    \n",
    "    # plot bounding box\n",
    "    ax.plot_surface(x, y, z, alpha=0.2)\n",
    "    \n",
    "    # plot ray origin\n",
    "    ax.scatter(ray_org[0], ray_org[1], ray_org[2])\n",
    "    \n",
    "    # plot intersection points\n",
    "    ax.scatter(inter_min[0], inter_min[1], inter_min[2])\n",
    "    ax.scatter(inter_max[0], inter_max[1], inter_max[2])    \n",
    "    \n",
    "    # plot ray\n",
    "    ax.plot(line[:,0], line[:,1], line[:,2])\n",
    "    \n",
    "    plt.show()\n",
    "    \n",
    "    return ray_org, ray_inv_dir, ray_dir_sign, t_min, t_max\n",
    "\n",
    "def convert_testcase(tmin, tmax, min_t, max_t, bmin, bmax, ray_org, ray_inv_dir, ray_dir_sign, dtype = 'double', require = True, name = 'EXAMPLE'):\n",
    "    # this function takes all relevant values and generates c++ code of test cases (subcases) to be used in a doctest environment\n",
    "    \n",
    "    template = '''\n",
    "    SUBCASE(\"{20}\")\n",
    "    {{\n",
    "    // highest numbers\n",
    "    {0} pos_inf = std::numeric_limits<T>::max();\n",
    "    {0} neg_inf = -1 * std::numeric_limits<T>::max();\n",
    "\n",
    "    // return variables    \n",
    "    {0} tmin;\n",
    "    {0} tmax;    \n",
    "    \n",
    "    // correct values\n",
    "    {0} tmin_cor = {18};\n",
    "    {0} tmax_cor = {19};\n",
    "        \n",
    "    // parameters\n",
    "    {0} min_t = {1};\n",
    "    {0} max_t = {2};\n",
    "    Vec3r<{0}> bmin{{ {3}, {4}, {5} }};\n",
    "    Vec3r<{0}> bmax{{ {6}, {7}, {8} }};\n",
    "    Vec3r<{0}> ray_org{{ {9}, {10}, {11} }};\n",
    "    Vec3r<{0}> ray_inv_dir{{ {12}, {13}, {14} }};\n",
    "    Vec3ui ray_dir_sign{{ {15}, {16}, {17} }};\n",
    "    '''\n",
    "\n",
    "    if require:\n",
    "        template = template + '''\n",
    "    CHECK(IntersectRayAABB(tmin, tmax, min_t, max_t, bmin, bmax, ray_org, ray_inv_dir, ray_dir_sign));\n",
    "    CHECK(tmin == Approx(tmin_cor));\n",
    "    CHECK(tmax == Approx(tmax_cor));\n",
    "    }}\n",
    "    '''\n",
    "    else:\n",
    "        template = template + '''\n",
    "    CHECK_FALSE(IntersectRayAABB(tmin, tmax, min_t, max_t, bmin, bmax, ray_org, ray_inv_dir, ray_dir_sign));\n",
    "    }}\n",
    "    '''                \n",
    "\n",
    "    # translate the variables to the right types/strings\n",
    "    vars = [bmin, bmax, ray_org, ray_inv_dir, ray_dir_sign, t_min, t_max, min_t, max_t]\n",
    "    for v in range(len(vars)):\n",
    "            if dtype == 'double':\n",
    "                vars[v] = np.array(vars[v]).astype(np.float64)\n",
    "            elif dtype == 'float':\n",
    "                vars[v] = np.array(vars[v]).astype(np.float32)\n",
    "            else:\n",
    "                vars[v] = np.array(vars[v]).astype(np.float64)\n",
    "                \n",
    "            vars[v] = np.array(vars[v]).astype(np.str)\n",
    "\n",
    "            try:\n",
    "                for i in range(len(vars[v])):\n",
    "                    if vars[v][i] == 'inf':\n",
    "                        vars[v][i] = 'pos_inf'\n",
    "                    elif vars[v][i] == '-inf':\n",
    "                        vars[v][i] = 'neg_inf'                    \n",
    "            except:\n",
    "                if vars[v] == 'inf':\n",
    "                    vars[v] = 'pos_inf'\n",
    "                elif vars[v] == '-inf':\n",
    "                    vars[v] = 'neg_inf'  \n",
    "\n",
    "    [bmin, bmax, ray_org, ray_inv_dir, ray_dir_sign, tmin, tmax, min_t, max_t] = vars\n",
    "    \n",
    "    # fill the template with the given variables\n",
    "    template = template.format(dtype, \n",
    "                               min_t, max_t, \n",
    "                               bmin[0], bmin[1], bmin[2], \n",
    "                               bmax[0], bmax[1], bmax[2],\n",
    "                               ray_org[0], ray_org[1], ray_org[2],\n",
    "                               ray_inv_dir[0], ray_inv_dir[1], ray_inv_dir[2],\n",
    "                               int(float(ray_dir_sign[0])), int(float(ray_dir_sign[1])), int(float(ray_dir_sign[2])),\n",
    "                               tmin, tmax,\n",
    "                               name\n",
    "                              )\n",
    "    \n",
    "    # show the c++ code\n",
    "    print(template)"
   ]
  },
  {
   "cell_type": "markdown",
   "metadata": {},
   "source": [
    "## Testcases"
   ]
  },
  {
   "cell_type": "code",
   "execution_count": 123,
   "metadata": {},
   "outputs": [
    {
     "name": "stderr",
     "output_type": "stream",
     "text": [
      "<ipython-input-122-317ca8b0a5f5>:57: RuntimeWarning: divide by zero encountered in true_divide\n",
      "  ray_inv_dir = 1/ray_dir\n",
      "<ipython-input-122-317ca8b0a5f5>:102: RuntimeWarning: More than 20 figures have been opened. Figures created through the pyplot interface (`matplotlib.pyplot.figure`) are retained until explicitly closed and may consume too much memory. (To control this warning, see the rcParam `figure.max_open_warning`).\n",
      "  fig = plt.figure()\n"
     ]
    },
    {
     "data": {
      "application/vnd.jupyter.widget-view+json": {
       "model_id": "df58ba54aca04120a351bf3e7cd0bf3a",
       "version_major": 2,
       "version_minor": 0
      },
      "text/plain": [
       "Canvas(toolbar=Toolbar(toolitems=[('Home', 'Reset original view', 'home', 'home'), ('Back', 'Back to previous …"
      ]
     },
     "metadata": {},
     "output_type": "display_data"
    },
    {
     "name": "stdout",
     "output_type": "stream",
     "text": [
      "\n",
      "    SUBCASE(\"basic_case\")\n",
      "    {\n",
      "    // highest numbers\n",
      "    T pos_inf = std::numeric_limits<T>::max();\n",
      "    T neg_inf = -1 * std::numeric_limits<T>::max();\n",
      "\n",
      "    // return variables    \n",
      "    T tmin;\n",
      "    T tmax;    \n",
      "    \n",
      "    // correct values\n",
      "    T tmin_cor = 1.5000000000000002;\n",
      "    T tmax_cor = 2.519803902718557;\n",
      "        \n",
      "    // parameters\n",
      "    T min_t = 0.0;\n",
      "    T max_t = 3.0;\n",
      "    Vec3r<T> bmin{ -1.0, 1.0, 1.0 };\n",
      "    Vec3r<T> bmax{ 1.0, 2.0, 2.0 };\n",
      "    Vec3r<T> ray_org{ 0.0, -0.4708710135363803, 1.794174202707276 };\n",
      "    Vec3r<T> ray_inv_dir{ pos_inf, 1.019803902718557, -5.099019513592786 };\n",
      "    Vec3ui ray_dir_sign{ 0, 0, 1 };\n",
      "    \n",
      "    REQUIRE(IntersectRayAABB(tmin, tmax, min_t, max_t, bmin, bmax, ray_org, ray_inv_dir, ray_dir_sign));\n",
      "    REQUIRE(tmin == Approx(tmin_cor));\n",
      "    REQUIRE(tmax == Approx(tmax_cor));\n",
      "    }\n",
      "    \n"
     ]
    }
   ],
   "source": [
    "## basic example, nothing special here\n",
    "# parameters\n",
    "min_t = 0\n",
    "max_t = 3\n",
    "bmin = [-1, 1, 1]\n",
    "bmax = [1, 2, 2]\n",
    "inter_min = [0, 1, 1.5]\n",
    "inter_max = [0, 2, 1.3]\n",
    "ray_dist = (max_t - min_t)/2\n",
    "\n",
    "# calculate ray_org, ray_inv_dir, t_min, t_max and visualize the test case\n",
    "ray_org, ray_inv_dir, ray_dir_sign, t_min, t_max = plot(bmin, bmax, inter_min, inter_max, ray_dist)\n",
    "\n",
    "# convert to c++ test code\n",
    "convert_testcase(t_min, t_max,\n",
    "                 min_t, max_t,\n",
    "                 bmin, bmax, \n",
    "                 ray_org, \n",
    "                 ray_inv_dir, ray_dir_sign, \n",
    "                 dtype = 'T', \n",
    "                 require = True,\n",
    "                 name = 'basic_case'\n",
    "                )"
   ]
  },
  {
   "cell_type": "code",
   "execution_count": 124,
   "metadata": {},
   "outputs": [
    {
     "name": "stderr",
     "output_type": "stream",
     "text": [
      "<ipython-input-122-317ca8b0a5f5>:102: RuntimeWarning: More than 20 figures have been opened. Figures created through the pyplot interface (`matplotlib.pyplot.figure`) are retained until explicitly closed and may consume too much memory. (To control this warning, see the rcParam `figure.max_open_warning`).\n",
      "  fig = plt.figure()\n"
     ]
    },
    {
     "data": {
      "application/vnd.jupyter.widget-view+json": {
       "model_id": "fd8625967a894381a9ef352539fe44b9",
       "version_major": 2,
       "version_minor": 0
      },
      "text/plain": [
       "Canvas(toolbar=Toolbar(toolitems=[('Home', 'Reset original view', 'home', 'home'), ('Back', 'Back to previous …"
      ]
     },
     "metadata": {},
     "output_type": "display_data"
    },
    {
     "name": "stdout",
     "output_type": "stream",
     "text": [
      "\n",
      "    SUBCASE(\"BB_point\")\n",
      "    {\n",
      "    // highest numbers\n",
      "    T pos_inf = std::numeric_limits<T>::max();\n",
      "    T neg_inf = -1 * std::numeric_limits<T>::max();\n",
      "\n",
      "    // return variables    \n",
      "    T tmin;\n",
      "    T tmax;    \n",
      "    \n",
      "    // correct values\n",
      "    T tmin_cor = 1.7320508075688772;\n",
      "    T tmax_cor = 1.7320508075688772;\n",
      "        \n",
      "    // parameters\n",
      "    T min_t = 0.0;\n",
      "    T max_t = 3.0;\n",
      "    Vec3r<T> bmin{ -1.0, 1.0, 1.0 };\n",
      "    Vec3r<T> bmax{ -1.0, 1.0, 1.0 };\n",
      "    Vec3r<T> ray_org{ 0.0, 0.0, 0.0 };\n",
      "    Vec3r<T> ray_inv_dir{ -1.0, 1.0, 1.0 };\n",
      "    Vec3ui ray_dir_sign{ 1, 0, 0 };\n",
      "    \n",
      "    REQUIRE(IntersectRayAABB(tmin, tmax, min_t, max_t, bmin, bmax, ray_org, ray_inv_dir, ray_dir_sign));\n",
      "    REQUIRE(tmin == Approx(tmin_cor));\n",
      "    REQUIRE(tmax == Approx(tmax_cor));\n",
      "    }\n",
      "    \n"
     ]
    }
   ],
   "source": [
    "## 0D bounding box (point), ray from origin\n",
    "# parameters\n",
    "min_t = 0\n",
    "max_t = 3\n",
    "bmin = [-1, 1, 1]\n",
    "bmax = [-1, 1, 1]\n",
    "inter_min = [-1, 1, 1]\n",
    "inter_max = [-1, 1, 1]\n",
    "ray_dist = (max_t - min_t)/2\n",
    "\n",
    "# calculate ray_org, ray_inv_dir, t_min, t_max and visualize the test case\n",
    "ray_org, ray_inv_dir, ray_dir_sign, t_min, t_max = plot(bmin, bmax, inter_min, inter_max, ray_dist)\n",
    "\n",
    "# convert to c++ test code\n",
    "convert_testcase(t_min, t_max,\n",
    "                 min_t, max_t,\n",
    "                 bmin, bmax, \n",
    "                 ray_org, \n",
    "                 ray_inv_dir, ray_dir_sign, \n",
    "                 dtype = 'T', \n",
    "                 require = True,\n",
    "                 name = 'BB_point'\n",
    "                )"
   ]
  },
  {
   "cell_type": "code",
   "execution_count": 129,
   "metadata": {},
   "outputs": [
    {
     "data": {
      "text/plain": [
       "1.7320508075688772"
      ]
     },
     "execution_count": 129,
     "metadata": {},
     "output_type": "execute_result"
    }
   ],
   "source": [
    "np.sqrt(3)"
   ]
  },
  {
   "cell_type": "code",
   "execution_count": 125,
   "metadata": {},
   "outputs": [
    {
     "name": "stderr",
     "output_type": "stream",
     "text": [
      "<ipython-input-122-317ca8b0a5f5>:25: RuntimeWarning: invalid value encountered in subtract\n",
      "  ray_dir = (inter_max-inter_min)\n",
      "<ipython-input-122-317ca8b0a5f5>:102: RuntimeWarning: More than 20 figures have been opened. Figures created through the pyplot interface (`matplotlib.pyplot.figure`) are retained until explicitly closed and may consume too much memory. (To control this warning, see the rcParam `figure.max_open_warning`).\n",
      "  fig = plt.figure()\n"
     ]
    },
    {
     "data": {
      "application/vnd.jupyter.widget-view+json": {
       "model_id": "a84db61b0bc2421fa9e389aa106d1c2d",
       "version_major": 2,
       "version_minor": 0
      },
      "text/plain": [
       "Canvas(toolbar=Toolbar(toolitems=[('Home', 'Reset original view', 'home', 'home'), ('Back', 'Back to previous …"
      ]
     },
     "metadata": {},
     "output_type": "display_data"
    },
    {
     "name": "stdout",
     "output_type": "stream",
     "text": [
      "\n",
      "    SUBCASE(\"BB_point_inf\")\n",
      "    {\n",
      "    // highest numbers\n",
      "    T pos_inf = std::numeric_limits<T>::max();\n",
      "    T neg_inf = -1 * std::numeric_limits<T>::max();\n",
      "\n",
      "    // return variables    \n",
      "    T tmin;\n",
      "    T tmax;    \n",
      "    \n",
      "    // correct values\n",
      "    T tmin_cor = pos_inf;\n",
      "    T tmax_cor = pos_inf;\n",
      "        \n",
      "    // parameters\n",
      "    T min_t = 0.0;\n",
      "    T max_t = pos_inf;\n",
      "    Vec3r<T> bmin{ -1.0, pos_inf, 1.0 };\n",
      "    Vec3r<T> bmax{ -1.0, pos_inf, 1.0 };\n",
      "    Vec3r<T> ray_org{ 0.0, 0.0, 0.0 };\n",
      "    Vec3r<T> ray_inv_dir{ -1.0, 0.0, 1.0 };\n",
      "    Vec3ui ray_dir_sign{ 1, 0, 0 };\n",
      "    \n",
      "    REQUIRE(IntersectRayAABB(tmin, tmax, min_t, max_t, bmin, bmax, ray_org, ray_inv_dir, ray_dir_sign));\n",
      "    REQUIRE(tmin == Approx(tmin_cor));\n",
      "    REQUIRE(tmax == Approx(tmax_cor));\n",
      "    }\n",
      "    \n"
     ]
    }
   ],
   "source": [
    "## 0D bounding box (point) at 'infinity', ray from origin\n",
    "# parameters\n",
    "min_t = 0\n",
    "max_t = np.inf\n",
    "bmin = [-1, np.inf, 1]\n",
    "bmax = [-1, np.inf, 1]\n",
    "inter_min = [-1, np.inf, 1]\n",
    "inter_max = [-1, np.inf, 1]\n",
    "ray_dist = 1000\n",
    "\n",
    "# calculate ray_org, ray_inv_dir, t_min, t_max and visualize the test case\n",
    "ray_org, ray_inv_dir, ray_dir_sign, t_min, t_max = plot(bmin, bmax, inter_min, inter_max, ray_dist)\n",
    "\n",
    "# convert to c++ test code\n",
    "convert_testcase(t_min, t_max,\n",
    "                 min_t, max_t,\n",
    "                 bmin, bmax, \n",
    "                 ray_org, \n",
    "                 ray_inv_dir, ray_dir_sign, \n",
    "                 dtype = 'T', \n",
    "                 require = True,\n",
    "                 name = 'BB_point_inf'\n",
    "                )"
   ]
  },
  {
   "cell_type": "code",
   "execution_count": 126,
   "metadata": {},
   "outputs": [
    {
     "name": "stderr",
     "output_type": "stream",
     "text": [
      "<ipython-input-122-317ca8b0a5f5>:102: RuntimeWarning: More than 20 figures have been opened. Figures created through the pyplot interface (`matplotlib.pyplot.figure`) are retained until explicitly closed and may consume too much memory. (To control this warning, see the rcParam `figure.max_open_warning`).\n",
      "  fig = plt.figure()\n"
     ]
    },
    {
     "data": {
      "application/vnd.jupyter.widget-view+json": {
       "model_id": "1286f96980f94af1ac4ec03be05d9a65",
       "version_major": 2,
       "version_minor": 0
      },
      "text/plain": [
       "Canvas(toolbar=Toolbar(toolitems=[('Home', 'Reset original view', 'home', 'home'), ('Back', 'Back to previous …"
      ]
     },
     "metadata": {},
     "output_type": "display_data"
    },
    {
     "name": "stdout",
     "output_type": "stream",
     "text": [
      "\n",
      "    SUBCASE(\"BB_line\")\n",
      "    {\n",
      "    // highest numbers\n",
      "    T pos_inf = std::numeric_limits<T>::max();\n",
      "    T neg_inf = -1 * std::numeric_limits<T>::max();\n",
      "\n",
      "    // return variables    \n",
      "    T tmin;\n",
      "    T tmax;    \n",
      "    \n",
      "    // correct values\n",
      "    T tmin_cor = 2.449489742783178;\n",
      "    T tmax_cor = 2.449489742783178;\n",
      "        \n",
      "    // parameters\n",
      "    T min_t = 0.0;\n",
      "    T max_t = 3.0;\n",
      "    Vec3r<T> bmin{ -1.0, 1.0, 1.0 };\n",
      "    Vec3r<T> bmax{ -1.0, 5.0, 1.0 };\n",
      "    Vec3r<T> ray_org{ 0.0, 0.0, 0.0 };\n",
      "    Vec3r<T> ray_inv_dir{ -1.0, 0.5, 1.0 };\n",
      "    Vec3ui ray_dir_sign{ 1, 0, 0 };\n",
      "    \n",
      "    REQUIRE(IntersectRayAABB(tmin, tmax, min_t, max_t, bmin, bmax, ray_org, ray_inv_dir, ray_dir_sign));\n",
      "    REQUIRE(tmin == Approx(tmin_cor));\n",
      "    REQUIRE(tmax == Approx(tmax_cor));\n",
      "    }\n",
      "    \n"
     ]
    }
   ],
   "source": [
    "## finite 1D bounding box (line), ray from origin\n",
    "# parameters\n",
    "min_t = 0\n",
    "max_t = 3\n",
    "bmin = [-1, 1, 1]\n",
    "bmax = [-1, 5, 1]\n",
    "inter_min = [-1, 2, 1]\n",
    "inter_max = [-1, 2, 1]\n",
    "ray_dist = (max_t - min_t)/2\n",
    "\n",
    "# calculate ray_org, ray_inv_dir, t_min, t_max and visualize the test case\n",
    "ray_org, ray_inv_dir, ray_dir_sign, t_min, t_max = plot(bmin, bmax, inter_min, inter_max, ray_dist)\n",
    "\n",
    "# convert to c++ test code\n",
    "convert_testcase(t_min, t_max,\n",
    "                 min_t, max_t,\n",
    "                 bmin, bmax, \n",
    "                 ray_org, \n",
    "                 ray_inv_dir, ray_dir_sign, \n",
    "                 dtype = 'T', \n",
    "                 require = True,\n",
    "                 name = 'BB_line'\n",
    "                )"
   ]
  },
  {
   "cell_type": "code",
   "execution_count": 127,
   "metadata": {},
   "outputs": [
    {
     "name": "stderr",
     "output_type": "stream",
     "text": [
      "<ipython-input-122-317ca8b0a5f5>:102: RuntimeWarning: More than 20 figures have been opened. Figures created through the pyplot interface (`matplotlib.pyplot.figure`) are retained until explicitly closed and may consume too much memory. (To control this warning, see the rcParam `figure.max_open_warning`).\n",
      "  fig = plt.figure()\n"
     ]
    },
    {
     "data": {
      "application/vnd.jupyter.widget-view+json": {
       "model_id": "6abd53577527435db6150d5b54d9670e",
       "version_major": 2,
       "version_minor": 0
      },
      "text/plain": [
       "Canvas(toolbar=Toolbar(toolitems=[('Home', 'Reset original view', 'home', 'home'), ('Back', 'Back to previous …"
      ]
     },
     "metadata": {},
     "output_type": "display_data"
    },
    {
     "name": "stdout",
     "output_type": "stream",
     "text": [
      "\n",
      "    SUBCASE(\"BB_line_inf\")\n",
      "    {\n",
      "    // highest numbers\n",
      "    T pos_inf = std::numeric_limits<T>::max();\n",
      "    T neg_inf = -1 * std::numeric_limits<T>::max();\n",
      "\n",
      "    // return variables    \n",
      "    T tmin;\n",
      "    T tmax;    \n",
      "    \n",
      "    // correct values\n",
      "    T tmin_cor = 2.449489742783178;\n",
      "    T tmax_cor = 2.449489742783178;\n",
      "        \n",
      "    // parameters\n",
      "    T min_t = 0.0;\n",
      "    T max_t = 3.0;\n",
      "    Vec3r<T> bmin{ -1.0, 1.0, 1.0 };\n",
      "    Vec3r<T> bmax{ -1.0, pos_inf, 1.0 };\n",
      "    Vec3r<T> ray_org{ 0.0, 0.0, 0.0 };\n",
      "    Vec3r<T> ray_inv_dir{ -1.0, 0.5, 1.0 };\n",
      "    Vec3ui ray_dir_sign{ 1, 0, 0 };\n",
      "    \n",
      "    REQUIRE(IntersectRayAABB(tmin, tmax, min_t, max_t, bmin, bmax, ray_org, ray_inv_dir, ray_dir_sign));\n",
      "    REQUIRE(tmin == Approx(tmin_cor));\n",
      "    REQUIRE(tmax == Approx(tmax_cor));\n",
      "    }\n",
      "    \n"
     ]
    }
   ],
   "source": [
    "## 'infinite' 1D bounding box (line), ray from origin\n",
    "# parameters\n",
    "min_t = 0\n",
    "max_t = 3\n",
    "bmin = [-1, 1, 1]\n",
    "bmax = [-1, np.inf, 1]\n",
    "inter_min = [-1, 2, 1]\n",
    "inter_max = [-1, 2, 1]\n",
    "ray_dist = (max_t - min_t)/2\n",
    "\n",
    "# calculate ray_org, ray_inv_dir, t_min, t_max and visualize the test case\n",
    "ray_org, ray_inv_dir, ray_dir_sign, t_min, t_max = plot(bmin, bmax, inter_min, inter_max, ray_dist)\n",
    "\n",
    "# convert to c++ test code\n",
    "convert_testcase(t_min, t_max,\n",
    "                 min_t, max_t,\n",
    "                 bmin, bmax, \n",
    "                 ray_org, \n",
    "                 ray_inv_dir, ray_dir_sign, \n",
    "                 dtype = 'T', \n",
    "                 require = True,\n",
    "                 name = 'BB_line_inf'\n",
    "                )"
   ]
  },
  {
   "cell_type": "code",
   "execution_count": 128,
   "metadata": {},
   "outputs": [
    {
     "name": "stderr",
     "output_type": "stream",
     "text": [
      "<ipython-input-122-317ca8b0a5f5>:102: RuntimeWarning: More than 20 figures have been opened. Figures created through the pyplot interface (`matplotlib.pyplot.figure`) are retained until explicitly closed and may consume too much memory. (To control this warning, see the rcParam `figure.max_open_warning`).\n",
      "  fig = plt.figure()\n"
     ]
    },
    {
     "data": {
      "application/vnd.jupyter.widget-view+json": {
       "model_id": "385aec3075cb481786ab2289a752d9a6",
       "version_major": 2,
       "version_minor": 0
      },
      "text/plain": [
       "Canvas(toolbar=Toolbar(toolitems=[('Home', 'Reset original view', 'home', 'home'), ('Back', 'Back to previous …"
      ]
     },
     "metadata": {},
     "output_type": "display_data"
    },
    {
     "name": "stdout",
     "output_type": "stream",
     "text": [
      "\n",
      "    SUBCASE(\"BB_plane\")\n",
      "    {\n",
      "    // highest numbers\n",
      "    T pos_inf = std::numeric_limits<T>::max();\n",
      "    T neg_inf = -1 * std::numeric_limits<T>::max();\n",
      "\n",
      "    // return variables    \n",
      "    T tmin;\n",
      "    T tmax;    \n",
      "    \n",
      "    // correct values\n",
      "    T tmin_cor = 3.7416573867739413;\n",
      "    T tmax_cor = 3.7416573867739413;\n",
      "        \n",
      "    // parameters\n",
      "    T min_t = 0.0;\n",
      "    T max_t = 3.0;\n",
      "    Vec3r<T> bmin{ -1.0, 1.0, 1.0 };\n",
      "    Vec3r<T> bmax{ -1.0, 5.0, 5.0 };\n",
      "    Vec3r<T> ray_org{ 0.0, 0.0, 0.0 };\n",
      "    Vec3r<T> ray_inv_dir{ -1.0, 0.5, 0.3333333333333333 };\n",
      "    Vec3ui ray_dir_sign{ 1, 0, 0 };\n",
      "    \n",
      "    REQUIRE(IntersectRayAABB(tmin, tmax, min_t, max_t, bmin, bmax, ray_org, ray_inv_dir, ray_dir_sign));\n",
      "    REQUIRE(tmin == Approx(tmin_cor));\n",
      "    REQUIRE(tmax == Approx(tmax_cor));\n",
      "    }\n",
      "    \n"
     ]
    }
   ],
   "source": [
    "## 2D bounding box (plane), ray from origin\n",
    "# parameters\n",
    "min_t = 0\n",
    "max_t = 3\n",
    "bmin = [-1, 1, 1]\n",
    "bmax = [-1, 5, 5]\n",
    "inter_min = [-1, 2, 3]\n",
    "inter_max = [-1, 2, 3]\n",
    "ray_dist = (max_t - min_t)/2\n",
    "\n",
    "# calculate ray_org, ray_inv_dir, t_min, t_max and visualize the test case\n",
    "ray_org, ray_inv_dir, ray_dir_sign, t_min, t_max = plot(bmin, bmax, inter_min, inter_max, ray_dist)\n",
    "\n",
    "# convert to c++ test code\n",
    "convert_testcase(t_min, t_max,\n",
    "                 min_t, max_t,\n",
    "                 bmin, bmax, \n",
    "                 ray_org, \n",
    "                 ray_inv_dir, ray_dir_sign, \n",
    "                 dtype = 'T', \n",
    "                 require = True,\n",
    "                 name = 'BB_plane'\n",
    "                )"
   ]
  },
  {
   "cell_type": "code",
   "execution_count": 15,
   "metadata": {},
   "outputs": [
    {
     "data": {
      "application/vnd.jupyter.widget-view+json": {
       "model_id": "f2bea1d867ff44c8b2654f0cc54ab19d",
       "version_major": 2,
       "version_minor": 0
      },
      "text/plain": [
       "Canvas(toolbar=Toolbar(toolitems=[('Home', 'Reset original view', 'home', 'home'), ('Back', 'Back to previous …"
      ]
     },
     "metadata": {},
     "output_type": "display_data"
    },
    {
     "name": "stdout",
     "output_type": "stream",
     "text": [
      "\n",
      "    SUBCASE(\"BB_flat_infinte\")\n",
      "    {\n",
      "    // highest numbers\n",
      "    T pos_inf = <T>::max();\n",
      "    T neg_inf = -1 * <T>::max();\n",
      "\n",
      "    // return variables    \n",
      "    T tmin;\n",
      "    T tmax;    \n",
      "    \n",
      "    // correct values\n",
      "    T tmin_cor = 2.5;\n",
      "    T tmax_cor = 5.8166247903554;\n",
      "        \n",
      "    // parameters\n",
      "    T min_t = 0.0;\n",
      "    T max_t = 5.0;\n",
      "    Vec3r<T> bmin{ -1.0, 1.0, 1.0 };\n",
      "    Vec3r<T> bmax{ 2.0, 2.0, 2.0 };\n",
      "    Vec3r<T> ray_org{ -3.2613350843332274, 0.24622163855559087, 0.24622163855559087 };\n",
      "    Vec3r<T> ray_inv_dir{ 1.1055415967851332, 3.3166247903554, 3.3166247903554 };\n",
      "    Vec3ui ray_dir_sign{ 0, 0, 0 };\n",
      "    \n",
      "    REQUIRE(IntersectRayAABB(tmin, tmax, min_t, max_t, bmin, bmax, ray_org, ray_inv_dir, ray_dir_sign));\n",
      "    REQUIRE(tmin == Approx(tmin_cor));\n",
      "    REQUIRE(tmax == Approx(tmax_cor));\n",
      "    }\n",
      "    \n"
     ]
    }
   ],
   "source": [
    "# parameters\n",
    "min_t = 0\n",
    "max_t = 5\n",
    "bmin = [-1, 1, 1]\n",
    "bmax = [2,2,2]\n",
    "inter_min = [-1, 1, 1]\n",
    "inter_max = [2,2,2]\n",
    "ray_dist = (max_t - min_t)/2\n",
    "\n",
    "# calculate ray_org, ray_inv_dir, t_min, t_max and visualize the test case\n",
    "ray_org, ray_inv_dir, ray_dir_sign, t_min, t_max = plot(bmin, bmax, inter_min, inter_max, ray_dist)\n",
    "\n",
    "# convert to c++ test code\n",
    "convert_testcase(t_min, t_max,\n",
    "                 min_t, max_t,\n",
    "                 bmin, bmax, \n",
    "                 ray_org, \n",
    "                 ray_inv_dir, ray_dir_sign, \n",
    "                 dtype = 'T', \n",
    "                 require = True,\n",
    "                 name = 'BB_flat_infinte'\n",
    "                )"
   ]
  },
  {
   "cell_type": "code",
   "execution_count": 74,
   "metadata": {},
   "outputs": [
    {
     "name": "stdout",
     "output_type": "stream",
     "text": [
      "[inf, inf, inf]\n",
      "[inf, inf, inf]\n"
     ]
    },
    {
     "name": "stderr",
     "output_type": "stream",
     "text": [
      "<ipython-input-66-a2c2d9e3d11b>:85: RuntimeWarning: More than 20 figures have been opened. Figures created through the pyplot interface (`matplotlib.pyplot.figure`) are retained until explicitly closed and may consume too much memory. (To control this warning, see the rcParam `figure.max_open_warning`).\n",
      "  fig = plt.figure()\n"
     ]
    },
    {
     "data": {
      "application/vnd.jupyter.widget-view+json": {
       "model_id": "3f4abda5fac94c34ab96fc679a800b9b",
       "version_major": 2,
       "version_minor": 0
      },
      "text/plain": [
       "Canvas(toolbar=Toolbar(toolitems=[('Home', 'Reset original view', 'home', 'home'), ('Back', 'Back to previous …"
      ]
     },
     "metadata": {},
     "output_type": "display_data"
    },
    {
     "name": "stdout",
     "output_type": "stream",
     "text": [
      "[-290.06003456 -287.48249203 -287.48249203] [1.72974448 1.73320743 1.73320743] [0 0 0] 500.00000000000006 2231.4742273565607\n",
      "[inf, inf, inf]\n",
      "\n",
      "    SUBCASE(\"BB_flat_infinte\")\n",
      "    {\n",
      "    // highest numbers\n",
      "    T pos_inf = <T>::max();\n",
      "    T neg_inf = -1 * <T>::max();\n",
      "\n",
      "    // return variables    \n",
      "    T tmin;\n",
      "    T tmax;    \n",
      "    \n",
      "    // correct values\n",
      "    T tmin_cor = 500.00000000000006;\n",
      "    T tmax_cor = 2231.4742273565607;\n",
      "        \n",
      "    // parameters\n",
      "    T min_t = 0.0;\n",
      "    T max_t = pos_inf;\n",
      "    Vec3r<T> bmin{ -1.0, 1.0, 1.0 };\n",
      "    Vec3r<T> bmax{ pos_inf, pos_inf, pos_inf };\n",
      "    Vec3r<T> ray_org{ -290.0600345603253, -287.4824920337312, -287.4824920337312 };\n",
      "    Vec3r<T> ray_inv_dir{ 1.7297444828736874, 1.7332074347913522, 1.7332074347913522 };\n",
      "    Vec3ui ray_dir_sign{ 0, 0, 0 };\n",
      "    \n",
      "    REQUIRE(IntersectRayAABB(tmin, tmax, min_t, max_t, bmin, bmax, ray_org, ray_inv_dir, ray_dir_sign));\n",
      "    REQUIRE(tmin == Approx(tmin_cor));\n",
      "    REQUIRE(tmax == Approx(tmax_cor));\n",
      "    }\n",
      "    \n"
     ]
    }
   ],
   "source": [
    "# parameters\n",
    "min_t = 0\n",
    "max_t = np.inf\n",
    "bmin = [-1, 1, 1]\n",
    "bmax = [np.inf, np.inf, np.inf]\n",
    "inter_min = [-1, 1, 1]\n",
    "inter_max = [np.inf, np.inf, np.inf]\n",
    "ray_dist = 500\n",
    "\n",
    "# calculate ray_org, ray_inv_dir, t_min, t_max and visualize the test case\n",
    "ray_org, ray_inv_dir, ray_dir_sign, t_min, t_max = plot(bmin, bmax, inter_min, inter_max, ray_dist)\n",
    "print(ray_org, ray_inv_dir, ray_dir_sign, t_min, t_max)\n",
    "print(bmax)\n",
    "\n",
    "# convert to c++ test code\n",
    "convert_testcase(t_min, t_max,\n",
    "                 min_t, max_t,\n",
    "                 bmin, bmax, \n",
    "                 ray_org, \n",
    "                 ray_inv_dir, ray_dir_sign, \n",
    "                 dtype = 'T', \n",
    "                 require = True,\n",
    "                 name = 'BB_flat_infinte'\n",
    "                )"
   ]
  },
  {
   "cell_type": "code",
   "execution_count": 94,
   "metadata": {},
   "outputs": [
    {
     "data": {
      "text/plain": [
       "inf"
      ]
     },
     "execution_count": 94,
     "metadata": {},
     "output_type": "execute_result"
    }
   ],
   "source": [
    "np.inf-0"
   ]
  },
  {
   "cell_type": "code",
   "execution_count": null,
   "metadata": {},
   "outputs": [],
   "source": []
  }
 ],
 "metadata": {
  "kernelspec": {
   "display_name": "Python 3",
   "language": "python",
   "name": "python3"
  },
  "language_info": {
   "codemirror_mode": {
    "name": "ipython",
    "version": 3
   },
   "file_extension": ".py",
   "mimetype": "text/x-python",
   "name": "python",
   "nbconvert_exporter": "python",
   "pygments_lexer": "ipython3",
   "version": "3.8.2"
  }
 },
 "nbformat": 4,
 "nbformat_minor": 4
}
