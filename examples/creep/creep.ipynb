{
 "cells": [
  {
   "cell_type": "code",
   "execution_count": 1,
   "id": "practical-convert",
   "metadata": {},
   "outputs": [],
   "source": [
    "import os\n",
    "os.environ['EMRT_ORIGIN_BINARY'] = ''\n",
    "os.environ['EMRT_TRACER_BINARY'] = ''\n",
    "os.environ['EMRT_FILLVOLUME_BINARY'] = ''\n",
    "os.environ['EMRT_CREEP_BINARY'] = ''\n",
    "os.environ['EMRT_CWD'] = './'\n",
    "\n",
    "from landingsite import create_sphere\n",
    "from emrt.input import write_creep_input_files\n",
    "import numpy as np"
   ]
  },
  {
   "cell_type": "code",
   "execution_count": 2,
   "id": "deluxe-battlefield",
   "metadata": {},
   "outputs": [],
   "source": [
    "center = np.asarray([0., 0., 0.])\n",
    "radius = 100.\n",
    "\n",
    "v, t, i = create_sphere(center, radius, 0, 1, 0, 1, 5)"
   ]
  },
  {
   "cell_type": "code",
   "execution_count": 3,
   "id": "changed-monroe",
   "metadata": {},
   "outputs": [
    {
     "data": {
      "text/plain": [
       "{'points_file': 'test_sphere_2_points.npy',\n",
       " 'tris_file': 'test_sphere_2_tris.npy',\n",
       " 'results_file': 'test_sphere_2_results.raypaths',\n",
       " 'up_resolution': 720,\n",
       " 'path_resolution': 720,\n",
       " 'min_distance': 0.001,\n",
       " 'binary_output': True,\n",
       " 'origin': array([-52.57311121,  85.06508084,   0.        ]),\n",
       " 'target': array([1000.,    0.,   50.]),\n",
       " 'ior': 1.0}"
      ]
     },
     "execution_count": 3,
     "metadata": {},
     "output_type": "execute_result"
    }
   ],
   "source": [
    "write_creep_input_files('test_sphere_2', np.asarray(v, dtype=np.float64), \n",
    "                     np.asarray(t, dtype=np.uint32), np.asarray(v[0], dtype=np.float64), \n",
    "                     np.asarray([1000., 0., 50.]), up_resolution=720, path_resolution=720, min_distance=1e-3)"
   ]
  },
  {
   "cell_type": "code",
   "execution_count": null,
   "id": "bronze-visit",
   "metadata": {},
   "outputs": [],
   "source": []
  }
 ],
 "metadata": {
  "kernelspec": {
   "display_name": "Python 3",
   "language": "python",
   "name": "python3"
  },
  "language_info": {
   "codemirror_mode": {
    "name": "ipython",
    "version": 3
   },
   "file_extension": ".py",
   "mimetype": "text/x-python",
   "name": "python",
   "nbconvert_exporter": "python",
   "pygments_lexer": "ipython3",
   "version": "3.9.1"
  }
 },
 "nbformat": 4,
 "nbformat_minor": 5
}
